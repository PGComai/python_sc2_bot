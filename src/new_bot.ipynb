{
 "cells": [
  {
   "cell_type": "code",
   "execution_count": 22,
   "metadata": {},
   "outputs": [
    {
     "name": "stdout",
     "output_type": "stream",
     "text": [
      "2023-02-05 18:55:19.613 | INFO     | sc2.protocol:_execute:72 - Client status changed to Status.launched (was None)\n",
      "2023-02-05 18:55:19.614 | INFO     | sc2.controller:create_game:37 - Creating new game\n",
      "2023-02-05 18:55:19.614 | INFO     | sc2.controller:create_game:38 - Map:     (2)CatalystLE\n",
      "2023-02-05 18:55:19.614 | INFO     | sc2.controller:create_game:39 - Players: Bot BBBot(Protoss), Computer Hard(Terran, RandomBuild)\n",
      "2023-02-05 18:55:19.616 | INFO     | sc2.protocol:_execute:72 - Client status changed to Status.init_game (was Status.launched)\n",
      "2023-02-05 18:55:24.792 | INFO     | sc2.protocol:_execute:72 - Client status changed to Status.in_game (was None)\n",
      "2023-02-05 18:55:24.793 | INFO     | sc2.main:_play_game:221 - Player 1 - Bot BBBot(Protoss)\n",
      "2023-02-05 18:55:59.230 | INFO     | sc2.protocol:_execute:72 - Client status changed to Status.ended (was Status.in_game)\n",
      "2023-02-05 18:55:59.231 | INFO     | sc2.main:_play_game:228 - Result for player 1 - Bot BBBot(Protoss): Defeat\n",
      "2023-02-05 18:56:00.089 | INFO     | sc2.protocol:__request:48 - Cannot receive: Game has already ended.\n",
      "2023-02-05 18:56:00.090 | INFO     | sc2.sc2process:_close_connection:231 - Closing connection at 55986...\n",
      "2023-02-05 18:56:00.090 | INFO     | sc2.sc2process:kill_all:33 - kill_switch: Process cleanup for 20 processes\n"
     ]
    }
   ],
   "source": [
    "import nest_asyncio\n",
    "nest_asyncio.apply()\n",
    "\n",
    "from sc2 import maps\n",
    "from sc2.bot_ai import BotAI\n",
    "from sc2.data import Difficulty, Race\n",
    "from sc2.ids.ability_id import AbilityId\n",
    "from sc2.ids.buff_id import BuffId\n",
    "from sc2.ids.unit_typeid import UnitTypeId\n",
    "from sc2.main import run_game\n",
    "from sc2.player import Bot, Computer\n",
    "import random\n",
    "import math\n",
    "import numpy as np; from numpy import linspace, pi\n",
    "\n",
    "### needs to be a state machine\n",
    "\n",
    "class BBBot(BotAI):\n",
    "    # pylint: disable=R0912\n",
    "    async def on_step(self, iteration):\n",
    "        if iteration % 5 == 0:\n",
    "            self.tick5 = True\n",
    "        else:\n",
    "            self.tick5 = False\n",
    "        \n",
    "        bases = self.townhalls\n",
    "        num_bases = self.townhalls.amount\n",
    "        num_workers = self.workers.amount\n",
    "        if num_bases > 0:\n",
    "            worker_ratio = num_workers/num_bases\n",
    "        else:\n",
    "            worker_ratio = 0\n",
    "\n",
    "        await self.distribute_workers()\n",
    "        #await self.build_supply()\n",
    "        await self.build_pylons()\n",
    "        #await self.build_marines()\n",
    "        #await self.marine_patrol2()\n",
    "        #await self.status()\n",
    "\n",
    "        if worker_ratio < 15:\n",
    "            await self.build_workers()\n",
    "        else:\n",
    "            await self.expand()\n",
    "\n",
    "    async def build_workers(self):\n",
    "        for th in self.townhalls.ready.idle:\n",
    "            if self.can_afford(UnitTypeId.PROBE):\n",
    "                th.train(UnitTypeId.PROBE)\n",
    "\n",
    "    async def expand(self):\n",
    "        if self.townhalls.amount < 3 and self.can_afford(UnitTypeId.NEXUS):\n",
    "            await self.expand_now()\n",
    "        #else:\n",
    "            #for th in self.townhalls:\n",
    "\n",
    "    async def build_pylons(self):\n",
    "        ths = self.townhalls.ready.idle\n",
    "        if ths.__len__() > 1:\n",
    "            for th in ths:\n",
    "                if self.structures(UnitTypeId.PYLON).closer_than(20, th).amount < 6 and self.already_pending(UnitTypeId.PYLON) < 6:\n",
    "                    if self.can_afford(UnitTypeId.PYLON):\n",
    "                        goal = self.structures(UnitTypeId.NEXUS).closest_to(th)\n",
    "                        nearloc = th.position.towards(goal)\n",
    "                        await self.build(UnitTypeId.PYLON, near=nearloc, max_distance=50)\n",
    "\n",
    "\n",
    "def main():\n",
    "    run_game(\n",
    "        maps.get(\"(2)CatalystLE\"),\n",
    "        [Bot(Race.Protoss, BBBot()),\n",
    "         Computer(Race.Terran, Difficulty.Hard)],\n",
    "        realtime=False,\n",
    "    )\n",
    "\n",
    "\n",
    "if __name__ == \"__main__\":\n",
    "    main()\n"
   ]
  },
  {
   "cell_type": "code",
   "execution_count": null,
   "metadata": {},
   "outputs": [],
   "source": []
  }
 ],
 "metadata": {
  "kernelspec": {
   "display_name": "base",
   "language": "python",
   "name": "python3"
  },
  "language_info": {
   "codemirror_mode": {
    "name": "ipython",
    "version": 3
   },
   "file_extension": ".py",
   "mimetype": "text/x-python",
   "name": "python",
   "nbconvert_exporter": "python",
   "pygments_lexer": "ipython3",
   "version": "3.9.12"
  },
  "orig_nbformat": 4,
  "vscode": {
   "interpreter": {
    "hash": "a870603ec56586f7cde240d51f95df22bb5e73a043a538d54e910533ca1432d1"
   }
  }
 },
 "nbformat": 4,
 "nbformat_minor": 2
}
